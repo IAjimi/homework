{
 "cells": [
  {
   "cell_type": "markdown",
   "metadata": {},
   "source": [
    "## Machine Learning Homework 3"
   ]
  },
  {
   "cell_type": "code",
   "execution_count": 1,
   "metadata": {
    "collapsed": true
   },
   "outputs": [],
   "source": [
    "%matplotlib inline\n",
    "import numpy as np\n",
    "import pandas as pd\n",
    "import matplotlib.pyplot as plt\n",
    "from sklearn.cluster import KMeans\n",
    "from sklearn.preprocessing import scale\n",
    "from sklearn.cluster import AgglomerativeClustering\n",
    "from sklearn.decomposition import PCA\n",
    "\n",
    "pd.options.display.max_rows = 8"
   ]
  },
  {
   "cell_type": "markdown",
   "metadata": {},
   "source": [
    "#### First, import the red wine csv file into a pandas dataframe from the following website: https://archive.ics.uci.edu/ml/machine-learning-databases/wine-quality/ (Note: you need to adjust the argument for read_csv() from sep=',' to sep=';'). Use the wine quality data set to answer the following questions. Present any figures that assist you in your analysis:"
   ]
  },
  {
   "cell_type": "code",
   "execution_count": 2,
   "metadata": {
    "collapsed": true
   },
   "outputs": [],
   "source": [
    "wines = pd.read_csv(\"https://archive.ics.uci.edu/ml/machine-learning-databases/wine-quality/winequality-red.csv\", sep = \";\")"
   ]
  },
  {
   "cell_type": "code",
   "execution_count": 3,
   "metadata": {},
   "outputs": [
    {
     "data": {
      "text/html": [
       "<div>\n",
       "<style>\n",
       "    .dataframe thead tr:only-child th {\n",
       "        text-align: right;\n",
       "    }\n",
       "\n",
       "    .dataframe thead th {\n",
       "        text-align: left;\n",
       "    }\n",
       "\n",
       "    .dataframe tbody tr th {\n",
       "        vertical-align: top;\n",
       "    }\n",
       "</style>\n",
       "<table border=\"1\" class=\"dataframe\">\n",
       "  <thead>\n",
       "    <tr style=\"text-align: right;\">\n",
       "      <th></th>\n",
       "      <th>fixed acidity</th>\n",
       "      <th>volatile acidity</th>\n",
       "      <th>citric acid</th>\n",
       "      <th>residual sugar</th>\n",
       "      <th>chlorides</th>\n",
       "      <th>free sulfur dioxide</th>\n",
       "      <th>total sulfur dioxide</th>\n",
       "      <th>density</th>\n",
       "      <th>pH</th>\n",
       "      <th>sulphates</th>\n",
       "      <th>alcohol</th>\n",
       "      <th>quality</th>\n",
       "    </tr>\n",
       "  </thead>\n",
       "  <tbody>\n",
       "    <tr>\n",
       "      <th>0</th>\n",
       "      <td>7.4</td>\n",
       "      <td>0.70</td>\n",
       "      <td>0.00</td>\n",
       "      <td>1.9</td>\n",
       "      <td>0.076</td>\n",
       "      <td>11.0</td>\n",
       "      <td>34.0</td>\n",
       "      <td>0.9978</td>\n",
       "      <td>3.51</td>\n",
       "      <td>0.56</td>\n",
       "      <td>9.4</td>\n",
       "      <td>5</td>\n",
       "    </tr>\n",
       "    <tr>\n",
       "      <th>1</th>\n",
       "      <td>7.8</td>\n",
       "      <td>0.88</td>\n",
       "      <td>0.00</td>\n",
       "      <td>2.6</td>\n",
       "      <td>0.098</td>\n",
       "      <td>25.0</td>\n",
       "      <td>67.0</td>\n",
       "      <td>0.9968</td>\n",
       "      <td>3.20</td>\n",
       "      <td>0.68</td>\n",
       "      <td>9.8</td>\n",
       "      <td>5</td>\n",
       "    </tr>\n",
       "    <tr>\n",
       "      <th>2</th>\n",
       "      <td>7.8</td>\n",
       "      <td>0.76</td>\n",
       "      <td>0.04</td>\n",
       "      <td>2.3</td>\n",
       "      <td>0.092</td>\n",
       "      <td>15.0</td>\n",
       "      <td>54.0</td>\n",
       "      <td>0.9970</td>\n",
       "      <td>3.26</td>\n",
       "      <td>0.65</td>\n",
       "      <td>9.8</td>\n",
       "      <td>5</td>\n",
       "    </tr>\n",
       "    <tr>\n",
       "      <th>3</th>\n",
       "      <td>11.2</td>\n",
       "      <td>0.28</td>\n",
       "      <td>0.56</td>\n",
       "      <td>1.9</td>\n",
       "      <td>0.075</td>\n",
       "      <td>17.0</td>\n",
       "      <td>60.0</td>\n",
       "      <td>0.9980</td>\n",
       "      <td>3.16</td>\n",
       "      <td>0.58</td>\n",
       "      <td>9.8</td>\n",
       "      <td>6</td>\n",
       "    </tr>\n",
       "    <tr>\n",
       "      <th>4</th>\n",
       "      <td>7.4</td>\n",
       "      <td>0.70</td>\n",
       "      <td>0.00</td>\n",
       "      <td>1.9</td>\n",
       "      <td>0.076</td>\n",
       "      <td>11.0</td>\n",
       "      <td>34.0</td>\n",
       "      <td>0.9978</td>\n",
       "      <td>3.51</td>\n",
       "      <td>0.56</td>\n",
       "      <td>9.4</td>\n",
       "      <td>5</td>\n",
       "    </tr>\n",
       "    <tr>\n",
       "      <th>5</th>\n",
       "      <td>7.4</td>\n",
       "      <td>0.66</td>\n",
       "      <td>0.00</td>\n",
       "      <td>1.8</td>\n",
       "      <td>0.075</td>\n",
       "      <td>13.0</td>\n",
       "      <td>40.0</td>\n",
       "      <td>0.9978</td>\n",
       "      <td>3.51</td>\n",
       "      <td>0.56</td>\n",
       "      <td>9.4</td>\n",
       "      <td>5</td>\n",
       "    </tr>\n",
       "  </tbody>\n",
       "</table>\n",
       "</div>"
      ],
      "text/plain": [
       "   fixed acidity  volatile acidity  citric acid  residual sugar  chlorides  \\\n",
       "0            7.4              0.70         0.00             1.9      0.076   \n",
       "1            7.8              0.88         0.00             2.6      0.098   \n",
       "2            7.8              0.76         0.04             2.3      0.092   \n",
       "3           11.2              0.28         0.56             1.9      0.075   \n",
       "4            7.4              0.70         0.00             1.9      0.076   \n",
       "5            7.4              0.66         0.00             1.8      0.075   \n",
       "\n",
       "   free sulfur dioxide  total sulfur dioxide  density    pH  sulphates  \\\n",
       "0                 11.0                  34.0   0.9978  3.51       0.56   \n",
       "1                 25.0                  67.0   0.9968  3.20       0.68   \n",
       "2                 15.0                  54.0   0.9970  3.26       0.65   \n",
       "3                 17.0                  60.0   0.9980  3.16       0.58   \n",
       "4                 11.0                  34.0   0.9978  3.51       0.56   \n",
       "5                 13.0                  40.0   0.9978  3.51       0.56   \n",
       "\n",
       "   alcohol  quality  \n",
       "0      9.4        5  \n",
       "1      9.8        5  \n",
       "2      9.8        5  \n",
       "3      9.8        6  \n",
       "4      9.4        5  \n",
       "5      9.4        5  "
      ]
     },
     "execution_count": 3,
     "metadata": {},
     "output_type": "execute_result"
    }
   ],
   "source": [
    "wines.head(6)"
   ]
  },
  {
   "cell_type": "markdown",
   "metadata": {},
   "source": [
    "#### 1. Use K Means Cluster Analysis to identify cluster(s) of observations that have high and low values of the wine quality. (Assume all variables are continuous.). Describe variables that cluster with higher values of wine quality. Describe variables that cluster with lower values of wine quality. If you want to make a good bottle of wine, then what characteristics are most important according to this analysis?"
   ]
  },
  {
   "cell_type": "markdown",
   "metadata": {},
   "source": [
    "I first scale the dataset:"
   ]
  },
  {
   "cell_type": "code",
   "execution_count": 4,
   "metadata": {
    "collapsed": true
   },
   "outputs": [],
   "source": [
    "X = pd.DataFrame(scale(wines), index=wines.index, columns=wines.columns)"
   ]
  },
  {
   "cell_type": "markdown",
   "metadata": {},
   "source": [
    "I'm not sure which number of clusters to use, so I run the KMeans() analysis for clusters between 2 and 20 using a for loop. "
   ]
  },
  {
   "cell_type": "code",
   "execution_count": 5,
   "metadata": {},
   "outputs": [
    {
     "data": {
      "image/png": "[encoded data removed]",
      "text/plain": [
       "<matplotlib.figure.Figure at 0x17a35996eb8>"
      ]
     },
     "metadata": {},
     "output_type": "display_data"
    }
   ],
   "source": [
    "within_cluster_variance = [] #empty results vector\n",
    "\n",
    "for k in range(2, 20): #loop \n",
    "    kmeans = KMeans(n_clusters=k)\n",
    "    kmeans.fit(X)\n",
    "    within_cluster_variance.append(kmeans.inertia_)\n",
    "\n",
    "fig = plt.figure(figsize=(12, 5))\n",
    "plt.plot(range(2, 20), within_cluster_variance, marker='o')\n",
    "plt.xlabel('Number of clusters')\n",
    "plt.ylabel('Reduction in within cluster variation')\n",
    "plt.title('Elbow curve');"
   ]
  },
  {
   "cell_type": "markdown",
   "metadata": {},
   "source": [
    "It looks like 8 clusters could be a reasonable compromise between the explanatory power and complexity of our model."
   ]
  },
  {
   "cell_type": "markdown",
   "metadata": {},
   "source": [
    "I took a look below at the variation in cluster means for the 8 cluster model:"
   ]
  },
  {
   "cell_type": "code",
   "execution_count": 6,
   "metadata": {
    "collapsed": true
   },
   "outputs": [],
   "source": [
    "kmeans = KMeans(n_clusters = 8)\n",
    "kmeans.fit(X)\n",
    "y_kmeans = kmeans.predict(X)"
   ]
  },
  {
   "cell_type": "code",
   "execution_count": 7,
   "metadata": {},
   "outputs": [
    {
     "data": {
      "text/html": [
       "<div>\n",
       "<style>\n",
       "    .dataframe thead tr:only-child th {\n",
       "        text-align: right;\n",
       "    }\n",
       "\n",
       "    .dataframe thead th {\n",
       "        text-align: left;\n",
       "    }\n",
       "\n",
       "    .dataframe tbody tr th {\n",
       "        vertical-align: top;\n",
       "    }\n",
       "</style>\n",
       "<table border=\"1\" class=\"dataframe\">\n",
       "  <thead>\n",
       "    <tr style=\"text-align: right;\">\n",
       "      <th></th>\n",
       "      <th>fixed acidity</th>\n",
       "      <th>volatile acidity</th>\n",
       "      <th>citric acid</th>\n",
       "      <th>residual sugar</th>\n",
       "      <th>chlorides</th>\n",
       "      <th>free sulfur dioxide</th>\n",
       "      <th>total sulfur dioxide</th>\n",
       "      <th>density</th>\n",
       "      <th>pH</th>\n",
       "      <th>sulphates</th>\n",
       "      <th>alcohol</th>\n",
       "      <th>quality</th>\n",
       "    </tr>\n",
       "    <tr>\n",
       "      <th>cluster</th>\n",
       "      <th></th>\n",
       "      <th></th>\n",
       "      <th></th>\n",
       "      <th></th>\n",
       "      <th></th>\n",
       "      <th></th>\n",
       "      <th></th>\n",
       "      <th></th>\n",
       "      <th></th>\n",
       "      <th></th>\n",
       "      <th></th>\n",
       "      <th></th>\n",
       "    </tr>\n",
       "  </thead>\n",
       "  <tbody>\n",
       "    <tr>\n",
       "      <th>0</th>\n",
       "      <td>-0.572051</td>\n",
       "      <td>0.972832</td>\n",
       "      <td>-1.019873</td>\n",
       "      <td>-0.138520</td>\n",
       "      <td>-0.060950</td>\n",
       "      <td>-0.381585</td>\n",
       "      <td>-0.388146</td>\n",
       "      <td>-0.023773</td>\n",
       "      <td>0.658756</td>\n",
       "      <td>-0.408881</td>\n",
       "      <td>-0.424772</td>\n",
       "      <td>-0.613519</td>\n",
       "    </tr>\n",
       "    <tr>\n",
       "      <th>5</th>\n",
       "      <td>-0.134113</td>\n",
       "      <td>0.028900</td>\n",
       "      <td>0.058736</td>\n",
       "      <td>-0.016189</td>\n",
       "      <td>-0.049292</td>\n",
       "      <td>1.053857</td>\n",
       "      <td>1.264095</td>\n",
       "      <td>0.189691</td>\n",
       "      <td>-0.082974</td>\n",
       "      <td>-0.168520</td>\n",
       "      <td>-0.550840</td>\n",
       "      <td>-0.422822</td>\n",
       "    </tr>\n",
       "    <tr>\n",
       "      <th>6</th>\n",
       "      <td>0.095416</td>\n",
       "      <td>0.002200</td>\n",
       "      <td>1.181553</td>\n",
       "      <td>-0.389872</td>\n",
       "      <td>5.784760</td>\n",
       "      <td>-0.049516</td>\n",
       "      <td>0.510330</td>\n",
       "      <td>0.180072</td>\n",
       "      <td>-1.735792</td>\n",
       "      <td>3.663412</td>\n",
       "      <td>-0.869731</td>\n",
       "      <td>-0.345440</td>\n",
       "    </tr>\n",
       "    <tr>\n",
       "      <th>2</th>\n",
       "      <td>0.034403</td>\n",
       "      <td>-0.140835</td>\n",
       "      <td>-0.017796</td>\n",
       "      <td>-0.289526</td>\n",
       "      <td>-0.016232</td>\n",
       "      <td>-0.632106</td>\n",
       "      <td>-0.413938</td>\n",
       "      <td>0.184391</td>\n",
       "      <td>-0.286941</td>\n",
       "      <td>-0.306182</td>\n",
       "      <td>-0.595521</td>\n",
       "      <td>-0.300314</td>\n",
       "    </tr>\n",
       "    <tr>\n",
       "      <th>4</th>\n",
       "      <td>-0.165687</td>\n",
       "      <td>-0.006155</td>\n",
       "      <td>0.293465</td>\n",
       "      <td>5.094012</td>\n",
       "      <td>0.332801</td>\n",
       "      <td>1.727338</td>\n",
       "      <td>1.745694</td>\n",
       "      <td>1.226920</td>\n",
       "      <td>-0.288656</td>\n",
       "      <td>-0.096037</td>\n",
       "      <td>-0.479176</td>\n",
       "      <td>-0.129779</td>\n",
       "    </tr>\n",
       "    <tr>\n",
       "      <th>7</th>\n",
       "      <td>1.839623</td>\n",
       "      <td>-0.592370</td>\n",
       "      <td>1.358068</td>\n",
       "      <td>0.213957</td>\n",
       "      <td>0.059733</td>\n",
       "      <td>-0.450928</td>\n",
       "      <td>-0.416823</td>\n",
       "      <td>1.237339</td>\n",
       "      <td>-1.092264</td>\n",
       "      <td>0.377193</td>\n",
       "      <td>0.066858</td>\n",
       "      <td>0.276388</td>\n",
       "    </tr>\n",
       "    <tr>\n",
       "      <th>1</th>\n",
       "      <td>-1.078854</td>\n",
       "      <td>0.302473</td>\n",
       "      <td>-0.888185</td>\n",
       "      <td>-0.267885</td>\n",
       "      <td>-0.411568</td>\n",
       "      <td>0.258845</td>\n",
       "      <td>-0.180078</td>\n",
       "      <td>-1.338580</td>\n",
       "      <td>1.134264</td>\n",
       "      <td>-0.111919</td>\n",
       "      <td>1.192315</td>\n",
       "      <td>0.526685</td>\n",
       "    </tr>\n",
       "    <tr>\n",
       "      <th>3</th>\n",
       "      <td>0.208450</td>\n",
       "      <td>-1.017770</td>\n",
       "      <td>0.739797</td>\n",
       "      <td>-0.094901</td>\n",
       "      <td>-0.283138</td>\n",
       "      <td>-0.262767</td>\n",
       "      <td>-0.511438</td>\n",
       "      <td>-0.631490</td>\n",
       "      <td>-0.236545</td>\n",
       "      <td>0.476558</td>\n",
       "      <td>1.129947</td>\n",
       "      <td>1.167974</td>\n",
       "    </tr>\n",
       "  </tbody>\n",
       "</table>\n",
       "</div>"
      ],
      "text/plain": [
       "         fixed acidity  volatile acidity  citric acid  residual sugar  \\\n",
       "cluster                                                                 \n",
       "0            -0.572051          0.972832    -1.019873       -0.138520   \n",
       "5            -0.134113          0.028900     0.058736       -0.016189   \n",
       "6             0.095416          0.002200     1.181553       -0.389872   \n",
       "2             0.034403         -0.140835    -0.017796       -0.289526   \n",
       "4            -0.165687         -0.006155     0.293465        5.094012   \n",
       "7             1.839623         -0.592370     1.358068        0.213957   \n",
       "1            -1.078854          0.302473    -0.888185       -0.267885   \n",
       "3             0.208450         -1.017770     0.739797       -0.094901   \n",
       "\n",
       "         chlorides  free sulfur dioxide  total sulfur dioxide   density  \\\n",
       "cluster                                                                   \n",
       "0        -0.060950            -0.381585             -0.388146 -0.023773   \n",
       "5        -0.049292             1.053857              1.264095  0.189691   \n",
       "6         5.784760            -0.049516              0.510330  0.180072   \n",
       "2        -0.016232            -0.632106             -0.413938  0.184391   \n",
       "4         0.332801             1.727338              1.745694  1.226920   \n",
       "7         0.059733            -0.450928             -0.416823  1.237339   \n",
       "1        -0.411568             0.258845             -0.180078 -1.338580   \n",
       "3        -0.283138            -0.262767             -0.511438 -0.631490   \n",
       "\n",
       "               pH  sulphates   alcohol   quality  \n",
       "cluster                                           \n",
       "0        0.658756  -0.408881 -0.424772 -0.613519  \n",
       "5       -0.082974  -0.168520 -0.550840 -0.422822  \n",
       "6       -1.735792   3.663412 -0.869731 -0.345440  \n",
       "2       -0.286941  -0.306182 -0.595521 -0.300314  \n",
       "4       -0.288656  -0.096037 -0.479176 -0.129779  \n",
       "7       -1.092264   0.377193  0.066858  0.276388  \n",
       "1        1.134264  -0.111919  1.192315  0.526685  \n",
       "3       -0.236545   0.476558  1.129947  1.167974  "
      ]
     },
     "metadata": {},
     "output_type": "display_data"
    }
   ],
   "source": [
    "X['cluster'] = kmeans.labels_\n",
    "display(X.groupby('cluster').mean().sort_values(\"quality\")) #cluster means"
   ]
  },
  {
   "cell_type": "markdown",
   "metadata": {},
   "source": [
    "The table is a bit hard to asses because of the number of clusters, so I use look at the correlation wine quality with the other variables."
   ]
  },
  {
   "cell_type": "code",
   "execution_count": 8,
   "metadata": {
    "collapsed": true
   },
   "outputs": [],
   "source": [
    "cluster_results = X.groupby('cluster').mean() #saving cluster mean results in a df"
   ]
  },
  {
   "cell_type": "code",
   "execution_count": 9,
   "metadata": {},
   "outputs": [
    {
     "data": {
      "text/plain": [
       "quality          1.000000\n",
       "alcohol          0.899373\n",
       "citric acid      0.245795\n",
       "fixed acidity    0.160452\n",
       "pH               0.109273\n",
       "sulphates       -0.054347\n",
       "Name: quality, dtype: float64"
      ]
     },
     "execution_count": 9,
     "metadata": {},
     "output_type": "execute_result"
    }
   ],
   "source": [
    "cluster_results.corr()[\"quality\"].sort_values(ascending = False).head(6)"
   ]
  },
  {
   "cell_type": "markdown",
   "metadata": {},
   "source": [
    "Alcohol has an extremely strong positive relationship with wine quality. pH and citric acid have a posititive, but relatively low, relationship with wine. Fixed acidity is essentially uncorrelated with wine quality."
   ]
  },
  {
   "cell_type": "code",
   "execution_count": 10,
   "metadata": {},
   "outputs": [
    {
     "data": {
      "text/plain": [
       "volatile acidity       -0.712375\n",
       "density                -0.406225\n",
       "total sulfur dioxide   -0.386223\n",
       "chlorides              -0.301039\n",
       "free sulfur dioxide    -0.158917\n",
       "residual sugar         -0.080026\n",
       "sulphates              -0.054347\n",
       "Name: quality, dtype: float64"
      ]
     },
     "execution_count": 10,
     "metadata": {},
     "output_type": "execute_result"
    }
   ],
   "source": [
    "cluster_results.corr()[\"quality\"].sort_values().head(7)"
   ]
  },
  {
   "cell_type": "markdown",
   "metadata": {},
   "source": [
    "Sulphates and residual sugar have weak negative relationships with wine quality. Volatile acidity, total sulfur dioxide, density, chlorides, and free sulfur dioxide all have negative relationships with wine quality."
   ]
  },
  {
   "cell_type": "code",
   "execution_count": 11,
   "metadata": {},
   "outputs": [
    {
     "data": {
      "text/plain": [
       "quality                 1.000000\n",
       "alcohol                 0.899373\n",
       "volatile acidity        0.712375\n",
       "density                 0.406225\n",
       "total sulfur dioxide    0.386223\n",
       "Name: quality, dtype: float64"
      ]
     },
     "execution_count": 11,
     "metadata": {},
     "output_type": "execute_result"
    }
   ],
   "source": [
    "cluster_results.corr()[\"quality\"].abs().sort_values(ascending = False).head(5)"
   ]
  },
  {
   "cell_type": "markdown",
   "metadata": {},
   "source": [
    "The most important variables are alcohol, volatilite acidity, total suflur dioxide and density. The latter three need to be minimized for good wine."
   ]
  },
  {
   "cell_type": "markdown",
   "metadata": {},
   "source": [
    "#### 2. Use Hierarchical Cluster Analysis to identify cluster(s) of observations that have high and low values of the wine quality. (Assume all variables are continuous.) Use complete linkage and the same number of groups that you found to be the most meaningful in question 1. Describe variables that cluster with higher values of wine quality. Describe variables that cluster with lower values of wine quality. If you want to make a good bottle of wine, then what characteristics are most important according to this analysis? Have your conclusions changed using Hierarchical clustering rather than k means clustering? Present any figures that assist you in your analysis."
   ]
  },
  {
   "cell_type": "code",
   "execution_count": 12,
   "metadata": {
    "collapsed": true
   },
   "outputs": [],
   "source": [
    "cluster_agg = AgglomerativeClustering(n_clusters= 8, affinity='euclidean', linkage='complete')\n",
    "labels = cluster_agg.fit_predict(X)    # cluster labels for all obsv"
   ]
  },
  {
   "cell_type": "markdown",
   "metadata": {},
   "source": [
    "As I did before, I take the cluster means for all variables, then examine the correlation between wine quality and the other xs."
   ]
  },
  {
   "cell_type": "code",
   "execution_count": 13,
   "metadata": {},
   "outputs": [
    {
     "data": {
      "text/plain": [
       "quality                 1.000000\n",
       "alcohol                 0.855249\n",
       "free sulfur dioxide     0.610786\n",
       "total sulfur dioxide    0.603586\n",
       "residual sugar          0.462939\n",
       "Name: quality, dtype: float64"
      ]
     },
     "execution_count": 13,
     "metadata": {},
     "output_type": "execute_result"
    }
   ],
   "source": [
    "X['cluster'] = labels\n",
    "agg_cluster_results = X.groupby('cluster').mean()\n",
    "agg_cluster_results.corr()[\"quality\"].sort_values(ascending = False).iloc[:5]"
   ]
  },
  {
   "cell_type": "markdown",
   "metadata": {},
   "source": [
    "Alcohol has a very strong positive relationship with wine quality. Free sulfur dioxide, total sulfure dioxide and pH have a positive relationships with wine quality. "
   ]
  },
  {
   "cell_type": "code",
   "execution_count": 14,
   "metadata": {},
   "outputs": [
    {
     "data": {
      "text/plain": [
       "pH                  0.359196\n",
       "fixed acidity      -0.122239\n",
       "citric acid        -0.301679\n",
       "density            -0.458361\n",
       "volatile acidity   -0.507751\n",
       "sulphates          -0.775104\n",
       "chlorides          -0.790497\n",
       "Name: quality, dtype: float64"
      ]
     },
     "execution_count": 14,
     "metadata": {},
     "output_type": "execute_result"
    }
   ],
   "source": [
    "agg_cluster_results.corr()[\"quality\"].sort_values(ascending = False).iloc[5:]"
   ]
  },
  {
   "cell_type": "markdown",
   "metadata": {},
   "source": [
    "Fixed acidity and residual sugar both have an extremely weak relationship to wine quality. Citric acidity has a negative relationship with wine quality. Volatile acidity, chlorides, density and sulphates have a strong negative relationship with wine quality. "
   ]
  },
  {
   "cell_type": "code",
   "execution_count": 15,
   "metadata": {},
   "outputs": [
    {
     "data": {
      "text/plain": [
       "quality                1.000000\n",
       "alcohol                0.855249\n",
       "chlorides              0.790497\n",
       "sulphates              0.775104\n",
       "free sulfur dioxide    0.610786\n",
       "Name: quality, dtype: float64"
      ]
     },
     "execution_count": 15,
     "metadata": {},
     "output_type": "execute_result"
    }
   ],
   "source": [
    "agg_cluster_results.corr()[\"quality\"].abs().sort_values(ascending = False).head(5)"
   ]
  },
  {
   "cell_type": "markdown",
   "metadata": {},
   "source": [
    "The variables that are most important to make a good wine are alcohol, chlorides, density, and sulphates. The latter three need to be minimized."
   ]
  },
  {
   "cell_type": "markdown",
   "metadata": {},
   "source": [
    "My conclusions are different. Though alcohol remains very significant in both analysis, the other four variables with the strongest correlation to wine have changed. One of them (sulphates) had even one of the weakest relationships with wine quality in the KMeans analysis. Residual sugar and fixed acidity, however, have remained insignificant."
   ]
  },
  {
   "cell_type": "markdown",
   "metadata": {},
   "source": [
    "We can use scatterplots to see how the relationship between the variables has changed:"
   ]
  },
  {
   "cell_type": "code",
   "execution_count": 16,
   "metadata": {},
   "outputs": [
    {
     "data": {
      "image/png": "[encoded data removed]",
      "text/plain": [
       "<matplotlib.figure.Figure at 0x17a398c21d0>"
      ]
     },
     "metadata": {},
     "output_type": "display_data"
    }
   ],
   "source": [
    "y = agg_cluster_results.columns[agg_cluster_results.columns.isin([\"quality\", \"residual sugar\", \"chlorides\"]) == False]\n",
    "\n",
    "fig, ax = plt.subplots(1, len(y), figsize = (30, 6))\n",
    "\n",
    "for i in range(0, len(y)):\n",
    "    ax[i].scatter(cluster_results.iloc[:, i], cluster_results[\"quality\"], color = \"#ffb14e\", alpha = 0.9)\n",
    "    ax[i].scatter(agg_cluster_results.iloc[:, i], agg_cluster_results[\"quality\"], color = \"#ea5f94\", alpha = 0.9)\n",
    "    ax[i].set_title(y[i])\n",
    "\n",
    "ax[0].set_ylabel(\"Wine Quality\")\n",
    "plt.legend(bbox_to_anchor=(1.05, 1), loc = 2, labels = [\"K Means\", \"Hierarchical\"]);"
   ]
  },
  {
   "cell_type": "markdown",
   "metadata": {},
   "source": [
    "The results are different but visually don't seem *that* different. Overal, the slope of the relationship seems to be the same for each variable. It could be that the correlations are too sensitive to the change in means, given that we have very few data points."
   ]
  },
  {
   "cell_type": "markdown",
   "metadata": {},
   "source": [
    "#### 3. Use Principal Components Analysis to reduce the dimensions of your data. How much of the variation in your data is explained by the first two principal components. How might you use the first two components to do supervised learning on some other variable tied to wine (e.g. - wine price)?"
   ]
  },
  {
   "cell_type": "code",
   "execution_count": 17,
   "metadata": {},
   "outputs": [
    {
     "data": {
      "text/plain": [
       "PCA(copy=True, iterated_power='auto', n_components=2, random_state=None,\n",
       "  svd_solver='auto', tol=0.0, whiten=False)"
      ]
     },
     "execution_count": 17,
     "metadata": {},
     "output_type": "execute_result"
    }
   ],
   "source": [
    "pca = PCA(n_components = 2)\n",
    "pca.fit(wines)"
   ]
  },
  {
   "cell_type": "code",
   "execution_count": 18,
   "metadata": {},
   "outputs": [
    {
     "data": {
      "text/plain": [
       "array([ 0.94607951,  0.99442786])"
      ]
     },
     "execution_count": 18,
     "metadata": {},
     "output_type": "execute_result"
    }
   ],
   "source": [
    "np.cumsum(pca.fit(wines).explained_variance_ratio_)"
   ]
  },
  {
   "cell_type": "markdown",
   "metadata": {},
   "source": [
    "The first two loadings explain 99.44% of the variance. "
   ]
  },
  {
   "cell_type": "markdown",
   "metadata": {},
   "source": [
    "We could use the transformation matrix obtained through PCA on our Y matrix, then regress Y on our PCA vectors."
   ]
  }
 ],
 "metadata": {
  "kernelspec": {
   "display_name": "Python 3",
   "language": "python",
   "name": "python3"
  },
  "language_info": {
   "codemirror_mode": {
    "name": "ipython",
    "version": 3
   },
   "file_extension": ".py",
   "mimetype": "text/x-python",
   "name": "python",
   "nbconvert_exporter": "python",
   "pygments_lexer": "ipython3",
   "version": "3.6.3"
  }
 },
 "nbformat": 4,
 "nbformat_minor": 2
}
