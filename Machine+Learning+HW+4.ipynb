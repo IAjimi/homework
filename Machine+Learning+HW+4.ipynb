{
 "cells": [
  {
   "cell_type": "markdown",
   "metadata": {},
   "source": [
    "# Machine Learning HW 4\n",
    "## Ines Ajimi (ia2272)"
   ]
  },
  {
   "cell_type": "code",
   "execution_count": 1,
   "metadata": {
    "collapsed": true
   },
   "outputs": [],
   "source": [
    "import pandas as pd\n",
    "import numpy as np\n",
    "import matplotlib.pyplot as plt\n",
    "\n",
    "from sklearn.feature_extraction.text import CountVectorizer\n",
    "from sklearn.feature_extraction.text import TfidfVectorizer\n",
    "from sklearn.feature_extraction.text import ENGLISH_STOP_WORDS\n",
    "from sklearn.model_selection import train_test_split\n",
    "from sklearn.model_selection import cross_val_score\n",
    "from sklearn.linear_model import LogisticRegression\n",
    "from sklearn.neighbors import KNeighborsClassifier\n",
    "from sklearn.svm import SVC \n",
    "from sklearn.metrics import f1_score\n",
    "from sklearn.model_selection import GridSearchCV"
   ]
  },
  {
   "cell_type": "markdown",
   "metadata": {},
   "source": [
    "## Part 1: Build a classification model using text data\n",
    "\n",
    "#### In part one of the homework, you will solve a text classification task. You can download the following data-sets from the HW data folder on the course website: HW4_Text_train_data.csv and HW4_text_test_data.csv. The data consists of Women’s fashion online shop reviews, consisting of a review text, and whether the review author would recommend the product. We are trying to determine whether a reviewer will recommend a product or not based on each review. In a real application this might allow us to find out what is good or bad about certain products or to feature more typical reviews (like a very critical and a very positive one).\n",
    "\n",
    "#### Use cross-validation to evaluate the results. Use a metric that’s appropriate for imbalanced classification (AUC or average precision for example), and inspect all models by visualizing the coefficients.\n",
    "\n",
    "#### To complete part one of the homework do the following: Import the text data, vectorize the review column into an X matrix.  Then run at least three models and select a single best model.  Note that you can also create three models that simply use different types of explanatory variables such as a logistic regression with different n grams or different tokenizers.  Be sure to explain your choice and evaluate this model using the test set."
   ]
  },
  {
   "cell_type": "markdown",
   "metadata": {},
   "source": [
    "First, I save the graphing function we used in the lecture notes."
   ]
  },
  {
   "cell_type": "code",
   "execution_count": 2,
   "metadata": {
    "collapsed": true
   },
   "outputs": [],
   "source": [
    "# adding the helper function from lecture notes to plot top positive and negative coefficients\n",
    "\n",
    "def visualize_coefficients(coefficients, feature_names, n_top_features=25):\n",
    "    \"\"\"Visualize coefficients of a linear model.\n",
    "    Parameters\n",
    "    ----------\n",
    "    coefficients : nd-array, shape (n_features,)\n",
    "        Model coefficients.\n",
    "    feature_names : list or nd-array of strings, shape (n_features,)\n",
    "        Feature names for labeling the coefficients.\n",
    "    n_top_features : int, default=25\n",
    "        How many features to show. The function will show the largest (most\n",
    "        positive) and smallest (most negative)  n_top_features coefficients,\n",
    "        for a total of 2 * n_top_features coefficients.\n",
    "    \"\"\"\n",
    "    coefficients = coefficients.squeeze()\n",
    "    if coefficients.ndim > 1:\n",
    "        # this is not a row or column vector\n",
    "        raise ValueError(\"coeffients must be 1d array or column vector, got\"\n",
    "                         \" shape {}\".format(coefficients.shape))\n",
    "    coefficients = coefficients.ravel()\n",
    "\n",
    "    if len(coefficients) != len(feature_names):\n",
    "        raise ValueError(\"Number of coefficients {} doesn't match number of\"\n",
    "                         \"feature names {}.\".format(len(coefficients),\n",
    "                                                    len(feature_names)))\n",
    "    # get coefficients with large absolute values\n",
    "    coef = coefficients.ravel()\n",
    "    positive_coefficients = np.argsort(coef)[-n_top_features:]\n",
    "    negative_coefficients = np.argsort(coef)[:n_top_features]\n",
    "    interesting_coefficients = np.hstack([negative_coefficients,\n",
    "                                          positive_coefficients])\n",
    "    # plot them\n",
    "    plt.figure(figsize=(15, 5))\n",
    "    colors = ['#ff2020' if c < 0 else '#0000aa'\n",
    "              for c in coef[interesting_coefficients]]\n",
    "    plt.bar(np.arange(2 * n_top_features), coef[interesting_coefficients],\n",
    "            color=colors)\n",
    "    feature_names = np.array(feature_names)\n",
    "    plt.subplots_adjust(bottom=0.3)\n",
    "    plt.xticks(np.arange(0.05, 0.05 + 2 * n_top_features), #adjusted so ticks look nice for fewer n# top features\n",
    "               feature_names[interesting_coefficients], rotation=60,\n",
    "               ha=\"right\")\n",
    "    plt.ylabel(\"Coefficient magnitude\")\n",
    "    plt.xlabel(\"Feature\")\n",
    "    plt.show() #added so plot shows up"
   ]
  },
  {
   "cell_type": "markdown",
   "metadata": {},
   "source": [
    "Then I import our data into the notebook as a pandas DataFrame, take a quick look at its contents, and convert our training data \"Review\" column into an array."
   ]
  },
  {
   "cell_type": "code",
   "execution_count": 3,
   "metadata": {
    "collapsed": true
   },
   "outputs": [],
   "source": [
    "text_train = pd.read_csv(\"C:/Users/ia767/Downloads/HW4_Text_train_data.csv\") #importing data\n",
    "text_test = pd.read_csv(\"C:/Users/ia767/Downloads/HW4_Text_test_data.csv\")"
   ]
  },
  {
   "cell_type": "code",
   "execution_count": 4,
   "metadata": {},
   "outputs": [
    {
     "data": {
      "text/html": [
       "<div>\n",
       "<style>\n",
       "    .dataframe thead tr:only-child th {\n",
       "        text-align: right;\n",
       "    }\n",
       "\n",
       "    .dataframe thead th {\n",
       "        text-align: left;\n",
       "    }\n",
       "\n",
       "    .dataframe tbody tr th {\n",
       "        vertical-align: top;\n",
       "    }\n",
       "</style>\n",
       "<table border=\"1\" class=\"dataframe\">\n",
       "  <thead>\n",
       "    <tr style=\"text-align: right;\">\n",
       "      <th></th>\n",
       "      <th>Review</th>\n",
       "      <th>Recommended</th>\n",
       "    </tr>\n",
       "  </thead>\n",
       "  <tbody>\n",
       "    <tr>\n",
       "      <th>0</th>\n",
       "      <td>\"go to\" please offer a maxi for mature custome...</td>\n",
       "      <td>1</td>\n",
       "    </tr>\n",
       "    <tr>\n",
       "      <th>1</th>\n",
       "      <td>\"go to\" tee for sz 10+ women.Women who want so...</td>\n",
       "      <td>1</td>\n",
       "    </tr>\n",
       "    <tr>\n",
       "      <th>2</th>\n",
       "      <td>\"long and warm\".These leg warmers are perfect ...</td>\n",
       "      <td>1</td>\n",
       "    </tr>\n",
       "  </tbody>\n",
       "</table>\n",
       "</div>"
      ],
      "text/plain": [
       "                                              Review  Recommended\n",
       "0  \"go to\" please offer a maxi for mature custome...            1\n",
       "1  \"go to\" tee for sz 10+ women.Women who want so...            1\n",
       "2  \"long and warm\".These leg warmers are perfect ...            1"
      ]
     },
     "execution_count": 4,
     "metadata": {},
     "output_type": "execute_result"
    }
   ],
   "source": [
    "text_train.head(3)"
   ]
  },
  {
   "cell_type": "code",
   "execution_count": 5,
   "metadata": {},
   "outputs": [
    {
     "data": {
      "text/html": [
       "<div>\n",
       "<style>\n",
       "    .dataframe thead tr:only-child th {\n",
       "        text-align: right;\n",
       "    }\n",
       "\n",
       "    .dataframe thead th {\n",
       "        text-align: left;\n",
       "    }\n",
       "\n",
       "    .dataframe tbody tr th {\n",
       "        vertical-align: top;\n",
       "    }\n",
       "</style>\n",
       "<table border=\"1\" class=\"dataframe\">\n",
       "  <thead>\n",
       "    <tr style=\"text-align: right;\">\n",
       "      <th></th>\n",
       "      <th>Review</th>\n",
       "      <th>Recommended</th>\n",
       "    </tr>\n",
       "  </thead>\n",
       "  <tbody>\n",
       "    <tr>\n",
       "      <th>0</th>\n",
       "      <td>\"beach business\".Great for the beachy business...</td>\n",
       "      <td>1</td>\n",
       "    </tr>\n",
       "    <tr>\n",
       "      <th>1</th>\n",
       "      <td>\"formal pajamas\".These are super comfy and so ...</td>\n",
       "      <td>1</td>\n",
       "    </tr>\n",
       "    <tr>\n",
       "      <th>2</th>\n",
       "      <td>\"perfect with jeans\".Great with leggings.perfe...</td>\n",
       "      <td>1</td>\n",
       "    </tr>\n",
       "  </tbody>\n",
       "</table>\n",
       "</div>"
      ],
      "text/plain": [
       "                                              Review  Recommended\n",
       "0  \"beach business\".Great for the beachy business...            1\n",
       "1  \"formal pajamas\".These are super comfy and so ...            1\n",
       "2  \"perfect with jeans\".Great with leggings.perfe...            1"
      ]
     },
     "execution_count": 5,
     "metadata": {},
     "output_type": "execute_result"
    }
   ],
   "source": [
    "text_test.head(3)"
   ]
  },
  {
   "cell_type": "code",
   "execution_count": 6,
   "metadata": {
    "collapsed": true
   },
   "outputs": [],
   "source": [
    "X_text_train = np.array(text_train[\"Review\"]) #our X"
   ]
  },
  {
   "cell_type": "markdown",
   "metadata": {},
   "source": [
    "I use CountVectorizer() to vectorize our text data."
   ]
  },
  {
   "cell_type": "code",
   "execution_count": 7,
   "metadata": {
    "collapsed": true
   },
   "outputs": [],
   "source": [
    "vect = CountVectorizer().fit(X_text_train) #fit the count vectorizer\n",
    "X = vect.transform(X_text_train) #transform our data"
   ]
  },
  {
   "cell_type": "markdown",
   "metadata": {},
   "source": [
    "Next, I convert our y column into an array, and split our data into a training and test set."
   ]
  },
  {
   "cell_type": "code",
   "execution_count": 8,
   "metadata": {
    "collapsed": true
   },
   "outputs": [],
   "source": [
    "y = np.array(text_train['Recommended']) #defining train y"
   ]
  },
  {
   "cell_type": "code",
   "execution_count": 9,
   "metadata": {
    "collapsed": true
   },
   "outputs": [],
   "source": [
    "# Set up training and test data\n",
    "X_train, X_test, y_train, y_test = train_test_split(X, y, random_state= 2)"
   ]
  },
  {
   "cell_type": "markdown",
   "metadata": {},
   "source": [
    "Quick note: in addition to the usual \"score\" metric, I will be using a weighted **F1 score**, which takes into account both precision (limiting the number of false positives) and recall (limiting the number of false negatives). Both metrics are typically used for imbalanced data-sets because they take into account the initial number of observations into each class. The F-1 is the harmonic mean of precision and recall, and so should give a good overview of our model's performance."
   ]
  },
  {
   "cell_type": "markdown",
   "metadata": {},
   "source": [
    "### First Attempt with Log & Tree Models"
   ]
  },
  {
   "cell_type": "markdown",
   "metadata": {},
   "source": [
    "The first model used is a simple **logistic** regression model, first unpenalized, then a penalized and tuned:"
   ]
  },
  {
   "cell_type": "code",
   "execution_count": 10,
   "metadata": {},
   "outputs": [
    {
     "name": "stdout",
     "output_type": "stream",
     "text": [
      "Test set score: 0.91\n",
      "CV Test Score: 0.89\n",
      "CV F1 Score: 0.89\n"
     ]
    }
   ],
   "source": [
    "log = LogisticRegression().fit(X_train, y_train)\n",
    "log_pred = log.predict(X_test)\n",
    "\n",
    "print(\"Test set score: {:.2f}\".format(log.score(X_test, y_test)))\n",
    "print(\"CV Test Score: {:.2f}\".format( np.mean(cross_val_score(log, X_test, y_test, cv=10))) )\n",
    "print(\"CV F1 Score: {:.2f}\".format(np.mean(cross_val_score(log, X_test, y_test, cv=10, scoring = \"f1_weighted\"))) )"
   ]
  },
  {
   "cell_type": "code",
   "execution_count": 9,
   "metadata": {},
   "outputs": [
    {
     "name": "stdout",
     "output_type": "stream",
     "text": [
      "Best cross-validation score: 0.90\n",
      "Test score: 0.91\n",
      "Best parameters:  {'C': 0.1}\n",
      "CV F1 Score: 0.89\n"
     ]
    }
   ],
   "source": [
    "param_grid = {'C': [0.001, 0.01, 0.1, 1, 10]}\n",
    "grid = GridSearchCV(LogisticRegression(), param_grid, cv=5)\n",
    "grid.fit(X_train, y_train)\n",
    "print(\"Best cross-validation score: {:.2f}\".format(grid.best_score_))\n",
    "print(\"Test score: {:.2f}\".format(grid.score(X_test, y_test)))\n",
    "print(\"Best parameters: \", grid.best_params_)\n",
    "penal_log_reg = LogisticRegression(C = grid.best_params_[\"C\"]).fit(X_train, y_train)\n",
    "print(\"CV F1 Score: {:.2f}\".format(np.mean(cross_val_score(penal_log_reg, X_test, y_test, cv=10, scoring = \"f1_weighted\"))) )"
   ]
  },
  {
   "cell_type": "markdown",
   "metadata": {},
   "source": [
    "The CV test score (on our training data) seems pretty high already, at over 89% for both models. The tuned, penalized model has a slightly higher CV test score, though the F1 scores are identical for both models."
   ]
  },
  {
   "cell_type": "code",
   "execution_count": 10,
   "metadata": {},
   "outputs": [
    {
     "data": {
      "image/png": "[encoded data removed]",
      "text/plain": [
       "<matplotlib.figure.Figure at 0x1ff81502e10>"
      ]
     },
     "metadata": {},
     "output_type": "display_data"
    }
   ],
   "source": [
    "coefs = LogisticRegression(C = grid.best_params_[\"C\"] ).fit(X_train,y_train).coef_\n",
    "feature_names = vect.get_feature_names()\n",
    "visualize_coefficients(coefs, feature_names, n_top_features= 10)"
   ]
  },
  {
   "cell_type": "markdown",
   "metadata": {},
   "source": [
    "The graph above shows that the top predictors of 'negative' and 'positive' reviews are pretty much what we would expect (\"disappointed\" is a great indicator of a negative review, while \"love\" signals a positive review)."
   ]
  },
  {
   "cell_type": "markdown",
   "metadata": {},
   "source": [
    "I try **Tree models** next:"
   ]
  },
  {
   "cell_type": "code",
   "execution_count": 12,
   "metadata": {},
   "outputs": [
    {
     "name": "stdout",
     "output_type": "stream",
     "text": [
      "Test set score: 0.815\n",
      "CV Test Score: 0.81\n",
      "CV F1 Score: 0.81\n"
     ]
    }
   ],
   "source": [
    "from sklearn.tree import DecisionTreeClassifier\n",
    "\n",
    "tree_basic = DecisionTreeClassifier().fit(X_train, y_train)\n",
    "\n",
    "print(\"Test set score: {:.3f}\".format(tree_basic.score(X_test, y_test)))\n",
    "print(\"CV Test Score: {:.2f}\".format(np.mean(cross_val_score(tree_basic, X_test, y_test, cv=10))) )\n",
    "print(\"CV F1 Score: {:.2f}\".format(np.mean(cross_val_score(tree_basic, X_test, y_test, cv=10, scoring = \"f1_weighted\"))) )"
   ]
  },
  {
   "cell_type": "code",
   "execution_count": 13,
   "metadata": {},
   "outputs": [
    {
     "name": "stdout",
     "output_type": "stream",
     "text": [
      "Test set score: 0.867\n",
      "CV Test Score: 0.86\n",
      "CV F1 Score: 0.84\n"
     ]
    }
   ],
   "source": [
    "from sklearn.ensemble import BaggingClassifier\n",
    "\n",
    "tree = DecisionTreeClassifier()\n",
    "tree_bag = BaggingClassifier(tree, n_estimators=50, random_state=1).fit(X_train, y_train)\n",
    "\n",
    "print(\"Test set score: {:.3f}\".format(tree_bag.score(X_test, y_test)))\n",
    "print(\"CV Test Score: {:.2f}\".format(np.mean(cross_val_score(tree_bag, X_test, y_test, cv=10))) )\n",
    "print(\"CV F1 Score: {:.2f}\".format(np.mean(cross_val_score(tree_bag, X_test, y_test, cv=10, scoring = \"f1_weighted\"))) )"
   ]
  },
  {
   "cell_type": "markdown",
   "metadata": {},
   "source": [
    "The tree model doesn't fare as well as the basic log regression, even when using a Bagging Classifier to refine its predictions. The 5% difference in F1 score and the slowness of the Bagging Classifier are both significant cons of the model. "
   ]
  },
  {
   "cell_type": "markdown",
   "metadata": {},
   "source": [
    "The plot below shows the 10 most important features ranked by importance for the basic (non-Bagged) tree. "
   ]
  },
  {
   "cell_type": "code",
   "execution_count": 14,
   "metadata": {},
   "outputs": [
    {
     "data": {
      "image/png": "[encoded data removed]",
      "text/plain": [
       "<matplotlib.figure.Figure at 0x26b5b12e4a8>"
      ]
     },
     "metadata": {},
     "output_type": "display_data"
    }
   ],
   "source": [
    "top_ten = np.argsort(-tree_basic.feature_importances_)[:10] #the index of the top 10 most important features\n",
    "key_tree_coef = tree_basic.feature_importances_[top_ten] #the coefficients of the top 10 most important features \n",
    "names = [vect.get_feature_names()[np.argsort(-tree_basic.feature_importances_)[i]] for i in range(0,10)] \n",
    "#the feature names associated with the top 10 features\n",
    "\n",
    "#the plot\n",
    "plt.figure(figsize=(15, 5)) #size\n",
    "plt.bar(np.arange(len(key_tree_coef)), key_tree_coef, color = '#0000aa')\n",
    "plt.subplots_adjust(bottom=0.3)\n",
    "plt.xticks(np.arange(0, len(key_tree_coef)), names, rotation=60,   ha=\"right\")\n",
    "plt.ylabel(\"Feature Importance\")\n",
    "plt.show() "
   ]
  },
  {
   "cell_type": "markdown",
   "metadata": {},
   "source": [
    "The plot helps understand why the tree models are underperfoming: un-informative words like \"was\", \"with\", & \"and\" are picked up as being some of the most relevant. The tree models may therefore benefit from some later alterations which filter out \"stop words\"."
   ]
  },
  {
   "cell_type": "markdown",
   "metadata": {
    "collapsed": true
   },
   "source": [
    "### Increasing Minimum Number of Occurences"
   ]
  },
  {
   "cell_type": "markdown",
   "metadata": {},
   "source": [
    "In addition to using different models, I can tweak the way the words the model uses to train are selected. I first try to restrict the number of occurences that is required for a word to be included to the vocabulary to 10. I will only be using the logistic model from now on, given its superior performance on the initial dataset."
   ]
  },
  {
   "cell_type": "code",
   "execution_count": 11,
   "metadata": {
    "collapsed": true
   },
   "outputs": [],
   "source": [
    "vect = CountVectorizer(min_df = 10, stop_words=\"english\").fit(X_text_train)\n",
    "X = vect.transform(X_text_train)\n",
    "X_train, X_test, y_train, y_test = train_test_split(X, y, random_state = 2)"
   ]
  },
  {
   "cell_type": "markdown",
   "metadata": {},
   "source": [
    "I re-run the penalized log model, given that it had the best CV test score and a high F1 CV score, using this new X:"
   ]
  },
  {
   "cell_type": "code",
   "execution_count": 12,
   "metadata": {},
   "outputs": [
    {
     "name": "stdout",
     "output_type": "stream",
     "text": [
      "Best cross-validation score: 0.90\n",
      "Test score: 0.90\n",
      "CV F1 Score: 0.87\n"
     ]
    }
   ],
   "source": [
    "param_grid = {'C': [0.001, 0.01, 0.1, 1, 10]}\n",
    "grid = GridSearchCV(LogisticRegression(), param_grid, cv=5)\n",
    "grid.fit(X_train, y_train)\n",
    "\n",
    "print(\"Best cross-validation score: {:.2f}\".format(grid.best_score_))\n",
    "print(\"Test score: {:.2f}\".format(grid.score(X_test, y_test)))\n",
    "print(\"CV F1 Score: {:.2f}\".format(np.mean(cross_val_score(LogisticRegression(C = grid.best_params_[\"C\"]).fit(X_train, y_train), X_test, y_test, cv=10, scoring = \"f1_weighted\"))) )"
   ]
  },
  {
   "cell_type": "markdown",
   "metadata": {},
   "source": [
    "The CV test score and F1 scores both *decrease* slightly (-0.01, -0.02)."
   ]
  },
  {
   "cell_type": "code",
   "execution_count": 13,
   "metadata": {},
   "outputs": [
    {
     "data": {
      "image/png": "[encoded data removed]",
      "text/plain": [
       "<matplotlib.figure.Figure at 0x1fffac491d0>"
      ]
     },
     "metadata": {},
     "output_type": "display_data"
    }
   ],
   "source": [
    "coefs = LogisticRegression(C = grid.best_params_[\"C\"] ).fit(X_train,y_train).coef_\n",
    "feature_names = vect.get_feature_names()\n",
    "visualize_coefficients(coefs, feature_names, n_top_features= 10)"
   ]
  },
  {
   "cell_type": "markdown",
   "metadata": {},
   "source": [
    "There doesn't seem to be much of a change in our features: \"disappointed\" it still the best predictor of a negative comment, much like \"returned\" and \"unflattering. The most 'positive' words are also the same: \"unique\", \"perfect\", and \"compliments\"."
   ]
  },
  {
   "cell_type": "markdown",
   "metadata": {},
   "source": [
    "### Removing Stop Words"
   ]
  },
  {
   "cell_type": "markdown",
   "metadata": {},
   "source": [
    "I can also remove stop words, so the models will hopefully be able to focus on more informative features."
   ]
  },
  {
   "cell_type": "code",
   "execution_count": 14,
   "metadata": {
    "collapsed": true
   },
   "outputs": [],
   "source": [
    "vect = CountVectorizer(min_df = 10, stop_words=\"english\").fit(X_text_train)\n",
    "X = vect.transform(X_text_train)\n",
    "X_train, X_test, y_train, y_test = train_test_split(X, y, random_state= 2)"
   ]
  },
  {
   "cell_type": "markdown",
   "metadata": {},
   "source": [
    "I re-run the penalized log models using this data:"
   ]
  },
  {
   "cell_type": "code",
   "execution_count": 15,
   "metadata": {},
   "outputs": [
    {
     "name": "stdout",
     "output_type": "stream",
     "text": [
      "Best cross-validation score: 0.90\n",
      "Test score: 0.90\n",
      "CV F1 Score: 0.87\n"
     ]
    }
   ],
   "source": [
    "param_grid = {'C': [0.001, 0.01, 0.1, 1, 10]}\n",
    "grid = GridSearchCV(LogisticRegression(), param_grid, cv=5)\n",
    "grid.fit(X_train, y_train)\n",
    "log_restr = LogisticRegression(C = grid.best_params_[\"C\"]).fit(X_train, y_train)\n",
    "\n",
    "print(\"Best cross-validation score: {:.2f}\".format(grid.best_score_))\n",
    "print(\"Test score: {:.2f}\".format(grid.score(X_test, y_test)))\n",
    "print(\"CV F1 Score: {:.2f}\".format(np.mean(cross_val_score(log_restr, X_test, y_test, cv=10, scoring = \"f1_weighted\"))) )"
   ]
  },
  {
   "cell_type": "markdown",
   "metadata": {},
   "source": [
    "Again, the test and F1 scores seem to have decreased by a negligeable amount."
   ]
  },
  {
   "cell_type": "code",
   "execution_count": 16,
   "metadata": {},
   "outputs": [
    {
     "data": {
      "image/png": "[encoded data removed]",
      "text/plain": [
       "<matplotlib.figure.Figure at 0x1ff81d7d6d8>"
      ]
     },
     "metadata": {},
     "output_type": "display_data"
    }
   ],
   "source": [
    "coefs = LogisticRegression(C = grid.best_params_[\"C\"] ).fit(X_train,y_train).coef_\n",
    "feature_names = vect.get_feature_names()\n",
    "visualize_coefficients(coefs, feature_names, n_top_features= 10)"
   ]
  },
  {
   "cell_type": "markdown",
   "metadata": {},
   "source": [
    "Moreover, the best predictors seem unchanged."
   ]
  },
  {
   "cell_type": "markdown",
   "metadata": {},
   "source": [
    "### Rescaling the Data with tf-idf"
   ]
  },
  {
   "cell_type": "markdown",
   "metadata": {
    "collapsed": true
   },
   "source": [
    "t-idf re-scales the data so that features that are over-represented in a given review will have larger weights. The model's predictions could then increase proportionally with the use of positive & negative predictors. However, the effectiveness of this approach in this instance is limited by the fact that people will not re-use the same features over & over again when writing."
   ]
  },
  {
   "cell_type": "code",
   "execution_count": 17,
   "metadata": {
    "collapsed": true
   },
   "outputs": [],
   "source": [
    "vect = TfidfVectorizer(min_df = 10, norm = None).fit(X_text_train)\n",
    "X = vect.transform(X_text_train)\n",
    "\n",
    "X_train, X_test, y_train, y_test = train_test_split(X, y, random_state = 2)"
   ]
  },
  {
   "cell_type": "code",
   "execution_count": 18,
   "metadata": {},
   "outputs": [
    {
     "name": "stdout",
     "output_type": "stream",
     "text": [
      "Best cross-validation score: 0.90\n",
      "Test score: 0.91\n",
      "CV F1 Score: 0.89\n"
     ]
    }
   ],
   "source": [
    "param_grid = {'C': [0.001, 0.01, 0.1, 1, 10]}\n",
    "grid = GridSearchCV(LogisticRegression(), param_grid, cv=5)\n",
    "grid.fit(X_train, y_train)\n",
    "log_restr = LogisticRegression(C = grid.best_params_[\"C\"]).fit(X_train, y_train)\n",
    "\n",
    "print(\"Best cross-validation score: {:.2f}\".format(grid.best_score_))\n",
    "print(\"Test score: {:.2f}\".format(grid.score(X_test, y_test)))\n",
    "print(\"CV F1 Score: {:.2f}\".format(np.mean(cross_val_score(log_restr, X_test, y_test, cv=10, scoring = \"f1_weighted\"))) )"
   ]
  },
  {
   "cell_type": "code",
   "execution_count": 19,
   "metadata": {},
   "outputs": [
    {
     "data": {
      "image/png": "[encoded data removed]",
      "text/plain": [
       "<matplotlib.figure.Figure at 0x1ff81dbdf28>"
      ]
     },
     "metadata": {},
     "output_type": "display_data"
    }
   ],
   "source": [
    "coefs = LogisticRegression(C = grid.best_params_[\"C\"] ).fit(X_train,y_train).coef_\n",
    "feature_names = vect.get_feature_names()\n",
    "visualize_coefficients(coefs, feature_names, n_top_features= 10)"
   ]
  },
  {
   "cell_type": "markdown",
   "metadata": {},
   "source": [
    "The F1 CV score is 89%, which is better than the previous tweaks that were attempted, but still not an improvement over the very first tuned, penalized model that I ran. The top features have a few new additions, namely \"soft, \"little\" and \"shame\", but are otherwise unchanged."
   ]
  },
  {
   "cell_type": "markdown",
   "metadata": {
    "collapsed": true
   },
   "source": [
    "### Testing The Model on The Test Dataset"
   ]
  },
  {
   "cell_type": "markdown",
   "metadata": {},
   "source": [
    "The model I keep is the tuned penalized log linear regression, as it is both the best and fastest performing model I ran. I now measure its performance on the test dataset. I do not use any of the additional feature methods I tried previously, since they seemed to decrease the performance of my model."
   ]
  },
  {
   "cell_type": "code",
   "execution_count": 20,
   "metadata": {},
   "outputs": [
    {
     "name": "stdout",
     "output_type": "stream",
     "text": [
      "Best cross-validation score: 0.90\n",
      "Test score: 0.91\n",
      "CV F1 Score: 0.89\n"
     ]
    }
   ],
   "source": [
    "X_true_test = vect.transform(np.array(text_test[\"Review\"])) \n",
    "Y_true_test = np.array(text_test[\"Recommended\"])\n",
    "\n",
    "grid.fit(X_train, y_train)\n",
    "log_restr = LogisticRegression(C = grid.best_params_[\"C\"]).fit(X_train, y_train)\n",
    "\n",
    "\n",
    "print(\"Best cross-validation score: {:.2f}\".format(grid.best_score_))\n",
    "print(\"Test score: {:.2f}\".format(grid.score(X_test, y_test)))\n",
    "print(\"CV F1 Score: {:.2f}\".format(np.mean(cross_val_score(log_restr, X_test, y_test, cv=10, scoring = \"f1_weighted\"))) )"
   ]
  },
  {
   "cell_type": "markdown",
   "metadata": {
    "collapsed": true
   },
   "source": [
    "The CV scores are almost as high as they were with our training data. The CV F1 score, in fact, is the same as we had for our first try! Overall, it seems the tuned, penalized log model's performance is fairly good."
   ]
  },
  {
   "cell_type": "markdown",
   "metadata": {},
   "source": [
    "## Part 2: Build a predictive neural network using Keras\n",
    "\n",
    "#### To complete part two of the homework do the following: Run a multilayer perceptron (feed forward neural network) with two hidden layers on the iris dataset using the keras Sequential interface. Data can be imported via the following link: http://vincentarelbundock.github.io/Rdatasets/csv/datasets/iris.csv\n",
    "\n",
    "#### Include code for selecting the number of hidden units using GridSearchCV and evaluation on a test-set.  Describe the differences in the predictive accuracy of models with different numbers of hidden units.  Describe the predictive strength of your best model.  Be sure to explain your choice and evaluate this model using the test set."
   ]
  },
  {
   "cell_type": "code",
   "execution_count": 28,
   "metadata": {},
   "outputs": [],
   "source": [
    "import keras\n",
    "from keras.models import Sequential\n",
    "from keras.layers import Dense, Activation\n",
    "from keras.wrappers.scikit_learn import KerasClassifier\n",
    "from keras.optimizers import SGD\n",
    "from sklearn.preprocessing import LabelEncoder"
   ]
  },
  {
   "cell_type": "code",
   "execution_count": 31,
   "metadata": {},
   "outputs": [],
   "source": [
    "np.random.seed(10) #set random number seed for reproducibility"
   ]
  },
  {
   "cell_type": "markdown",
   "metadata": {},
   "source": [
    "I start by importing the data, separating it into our predictor and predicted variables, and properly encoding the y values from strings to dummies."
   ]
  },
  {
   "cell_type": "code",
   "execution_count": 32,
   "metadata": {
    "collapsed": true
   },
   "outputs": [],
   "source": [
    "data = pd.read_csv(\"http://vincentarelbundock.github.io/Rdatasets/csv/datasets/iris.csv\" , encoding=\"latin_1\")\n",
    "data = data.iloc[:, 1:] #removes column that is just a row number\n",
    "y = LabelEncoder().fit_transform(data['Species']) #selects and encodes y\n",
    "X = data.loc[:, data.columns != 'Species'] #the rest, our x\n",
    "X_train, X_test, y_train, y_test = train_test_split(X, y, random_state= 2) # Set up training and test data"
   ]
  },
  {
   "cell_type": "markdown",
   "metadata": {},
   "source": [
    "I take a quick look at the dataset:"
   ]
  },
  {
   "cell_type": "code",
   "execution_count": 33,
   "metadata": {},
   "outputs": [
    {
     "data": {
      "text/html": [
       "<div>\n",
       "<style>\n",
       "    .dataframe thead tr:only-child th {\n",
       "        text-align: right;\n",
       "    }\n",
       "\n",
       "    .dataframe thead th {\n",
       "        text-align: left;\n",
       "    }\n",
       "\n",
       "    .dataframe tbody tr th {\n",
       "        vertical-align: top;\n",
       "    }\n",
       "</style>\n",
       "<table border=\"1\" class=\"dataframe\">\n",
       "  <thead>\n",
       "    <tr style=\"text-align: right;\">\n",
       "      <th></th>\n",
       "      <th>Sepal.Length</th>\n",
       "      <th>Sepal.Width</th>\n",
       "      <th>Petal.Length</th>\n",
       "      <th>Petal.Width</th>\n",
       "      <th>Species</th>\n",
       "    </tr>\n",
       "  </thead>\n",
       "  <tbody>\n",
       "    <tr>\n",
       "      <th>0</th>\n",
       "      <td>5.1</td>\n",
       "      <td>3.5</td>\n",
       "      <td>1.4</td>\n",
       "      <td>0.2</td>\n",
       "      <td>setosa</td>\n",
       "    </tr>\n",
       "    <tr>\n",
       "      <th>1</th>\n",
       "      <td>4.9</td>\n",
       "      <td>3.0</td>\n",
       "      <td>1.4</td>\n",
       "      <td>0.2</td>\n",
       "      <td>setosa</td>\n",
       "    </tr>\n",
       "    <tr>\n",
       "      <th>2</th>\n",
       "      <td>4.7</td>\n",
       "      <td>3.2</td>\n",
       "      <td>1.3</td>\n",
       "      <td>0.2</td>\n",
       "      <td>setosa</td>\n",
       "    </tr>\n",
       "  </tbody>\n",
       "</table>\n",
       "</div>"
      ],
      "text/plain": [
       "   Sepal.Length  Sepal.Width  Petal.Length  Petal.Width Species\n",
       "0           5.1          3.5           1.4          0.2  setosa\n",
       "1           4.9          3.0           1.4          0.2  setosa\n",
       "2           4.7          3.2           1.3          0.2  setosa"
      ]
     },
     "execution_count": 33,
     "metadata": {},
     "output_type": "execute_result"
    }
   ],
   "source": [
    "data.head(3)"
   ]
  },
  {
   "cell_type": "markdown",
   "metadata": {
    "collapsed": true
   },
   "source": [
    "I then create a function which generates feed-forward neural networks with two hidden layers. I use grid search to run through a range of neuron numbers for both layers."
   ]
  },
  {
   "cell_type": "code",
   "execution_count": 38,
   "metadata": {},
   "outputs": [
    {
     "name": "stdout",
     "output_type": "stream",
     "text": [
      "Best: 0.651786 using {'neurons1': 9, 'neurons2': 9}\n"
     ]
    }
   ],
   "source": [
    "def create_model(neurons1 = 12, neurons2 = 8): #model function\n",
    "    # create model\n",
    "    model = Sequential()\n",
    "    model.add(Dense(neurons1, input_dim = X_train.shape[1], activation='relu'))\n",
    "    model.add(Dense(neurons2, activation='relu'))\n",
    "    model.add(Dense(1, activation='sigmoid'))\n",
    "    \n",
    "    # Compile model\n",
    "    model.compile(loss='binary_crossentropy', optimizer='sgd', metrics=['accuracy'])\n",
    "    return model\n",
    "\n",
    "model = KerasClassifier(build_fn = create_model, epochs=100, verbose=0)\n",
    "\n",
    "param_grid = dict(neurons1 = range(1, 40, 8), neurons2 = range(1, 40, 8)) #grid search\n",
    "grid = GridSearchCV(estimator = model, param_grid = param_grid) \n",
    "grid_result = grid.fit(X_train, y_train)\n",
    "\n",
    "print(\"Best: %f using %s\" % (grid_result.best_score_, grid_result.best_params_))"
   ]
  },
  {
   "cell_type": "markdown",
   "metadata": {},
   "source": [
    "It seems that the model is optimized with 9 neurons in both layers."
   ]
  },
  {
   "cell_type": "markdown",
   "metadata": {},
   "source": [
    "I take a closer look at the change in test scores depending on the parameters used:"
   ]
  },
  {
   "cell_type": "code",
   "execution_count": 39,
   "metadata": {},
   "outputs": [
    {
     "data": {
      "text/plain": [
       "array([0.55357143, 0.44642857, 0.49107143, 0.64285714, 0.42857143,\n",
       "       0.64285714, 0.65178571, 0.65178571, 0.65178571, 0.65178571,\n",
       "       0.45535715, 0.65178571, 0.65178571, 0.65178571, 0.65178571,\n",
       "       0.65178571, 0.65178571, 0.65178571, 0.65178571, 0.65178571,\n",
       "       0.34821429, 0.64285714, 0.65178571, 0.65178571, 0.65178571])"
      ]
     },
     "execution_count": 39,
     "metadata": {},
     "output_type": "execute_result"
    }
   ],
   "source": [
    "grid_result.cv_results_[\"mean_test_score\"]"
   ]
  },
  {
   "cell_type": "code",
   "execution_count": 40,
   "metadata": {},
   "outputs": [
    {
     "data": {
      "text/plain": [
       "[{'neurons1': 1, 'neurons2': 1},\n",
       " {'neurons1': 1, 'neurons2': 9},\n",
       " {'neurons1': 1, 'neurons2': 17},\n",
       " {'neurons1': 1, 'neurons2': 25},\n",
       " {'neurons1': 1, 'neurons2': 33},\n",
       " {'neurons1': 9, 'neurons2': 1},\n",
       " {'neurons1': 9, 'neurons2': 9},\n",
       " {'neurons1': 9, 'neurons2': 17},\n",
       " {'neurons1': 9, 'neurons2': 25},\n",
       " {'neurons1': 9, 'neurons2': 33},\n",
       " {'neurons1': 17, 'neurons2': 1},\n",
       " {'neurons1': 17, 'neurons2': 9},\n",
       " {'neurons1': 17, 'neurons2': 17},\n",
       " {'neurons1': 17, 'neurons2': 25},\n",
       " {'neurons1': 17, 'neurons2': 33},\n",
       " {'neurons1': 25, 'neurons2': 1},\n",
       " {'neurons1': 25, 'neurons2': 9},\n",
       " {'neurons1': 25, 'neurons2': 17},\n",
       " {'neurons1': 25, 'neurons2': 25},\n",
       " {'neurons1': 25, 'neurons2': 33},\n",
       " {'neurons1': 33, 'neurons2': 1},\n",
       " {'neurons1': 33, 'neurons2': 9},\n",
       " {'neurons1': 33, 'neurons2': 17},\n",
       " {'neurons1': 33, 'neurons2': 25},\n",
       " {'neurons1': 33, 'neurons2': 33}]"
      ]
     },
     "execution_count": 40,
     "metadata": {},
     "output_type": "execute_result"
    }
   ],
   "source": [
    "grid_result.cv_results_[\"params\"]"
   ]
  },
  {
   "cell_type": "markdown",
   "metadata": {},
   "source": [
    "The model performance plateaus after the 9, 9 neuron set-up. I will keep using the 9, 9 model, since its accuracy is among the highest *and* it is the 'leanest' model (best-performing model with the lowest number of neurons in each layer)."
   ]
  },
  {
   "cell_type": "markdown",
   "metadata": {},
   "source": [
    "I then evaluate the model's performance on my test X and y."
   ]
  },
  {
   "cell_type": "code",
   "execution_count": 43,
   "metadata": {},
   "outputs": [
    {
     "name": "stdout",
     "output_type": "stream",
     "text": [
      "\r",
      "38/38 [==============================] - 5s 142ms/step\n"
     ]
    },
    {
     "data": {
      "text/plain": [
       "[0.11171633005142212, 0.28947368264198303]"
      ]
     },
     "execution_count": 43,
     "metadata": {},
     "output_type": "execute_result"
    }
   ],
   "source": [
    "model = Sequential()\n",
    "model.add(Dense(grid.best_params_[\"neurons1\"], input_dim = X_test.shape[1], activation='relu'))\n",
    "model.add(Dense(grid.best_params_[\"neurons2\"], activation='relu'))\n",
    "model.add(Dense(1, activation='sigmoid'))\n",
    "model.compile(loss='binary_crossentropy', optimizer='sgd', metrics=['accuracy'])\n",
    "model.evaluate(X_test, y_test, batch_size=128)"
   ]
  },
  {
   "cell_type": "markdown",
   "metadata": {},
   "source": [
    "Its performance is *not good*: accuracy is at 28.95%, which is just a bit better than a random guess. The model's accuracy could maybe be improved by tweaking its design (e.g. changing the number of layers) or trying out different activation methods."
   ]
  }
 ],
 "metadata": {
  "kernelspec": {
   "display_name": "Python 3",
   "language": "python",
   "name": "python3"
  },
  "language_info": {
   "codemirror_mode": {
    "name": "ipython",
    "version": 3
   },
   "file_extension": ".py",
   "mimetype": "text/x-python",
   "name": "python",
   "nbconvert_exporter": "python",
   "pygments_lexer": "ipython3",
   "version": "3.6.3"
  }
 },
 "nbformat": 4,
 "nbformat_minor": 1
}
